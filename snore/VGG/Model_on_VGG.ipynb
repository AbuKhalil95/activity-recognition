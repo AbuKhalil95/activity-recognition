{
 "cells": [
  {
   "cell_type": "markdown",
   "metadata": {},
   "source": [
    "# Train model based on VGGish features"
   ]
  },
  {
   "cell_type": "markdown",
   "metadata": {},
   "source": [
    "__VGGish__: 128-dimensional audio features extracted at 1Hz. The audio features were extracted using a VGG-inspired acoustic model described in Hershey et. al., trained on a preliminary version of YouTube-8M. The features were PCA-ed and quantized to be compatible with the audio features provided with YouTube-8M. They are stored as TensorFlow Record files."
   ]
  },
  {
   "cell_type": "markdown",
   "metadata": {},
   "source": [
    "To my understanding: VGGish model turns audio classification problems into image classification problems. They create 2D image-like patches by computing log-mel spectrograms of multiple frames, and feed that into models. The input thus become some transformations of visual representation of spectrum of frequencies of the signal as it changes with time.\n",
    "\n",
    "Reference: https://arxiv.org/pdf/1609.09430.pdf"
   ]
  },
  {
   "cell_type": "markdown",
   "metadata": {},
   "source": [
    "__PCA__: Two primary reasons for use\n",
    "- Data reduction: condense the information contained in a large number of original variables into a smaller set of new composite dimensions, with a minimum loss of information.\n",
    "- Interpretation: discover important features of a large data set that often reveals relationships that were previously unsuspected, thereby allowing interpretations that would not ordinarily result."
   ]
  },
  {
   "cell_type": "code",
   "execution_count": 46,
   "metadata": {},
   "outputs": [],
   "source": [
    "import tensorflow as tf\n",
    "import pandas as pd\n",
    "import numpy as np\n",
    "import os\n",
    "from tensorflow import keras\n",
    "import matplotlib.pyplot as plt\n",
    "from os import listdir\n",
    "from os.path import isfile, join\n",
    "from shutil import *"
   ]
  },
  {
   "cell_type": "code",
   "execution_count": 2,
   "metadata": {},
   "outputs": [],
   "source": [
    "# The directory should be arranged in form:\n",
    "# .\n",
    "# ├── audioset_v1_embeddings\n",
    "# ├── class_labels_indices.csv\n",
    "# └── Model_on_VGG.ipynb\n",
    "\n",
    "path = \"audioset_v1_embeddings/\"\n",
    "eva = \"eval/\"\n",
    "bal = \"bal_train/\"\n",
    "unbal = \"unbal_train/\""
   ]
  },
  {
   "cell_type": "markdown",
   "metadata": {},
   "source": [
    "-------------------------------\n",
    "-------------------------------\n",
    "-------------------------------\n",
    "-------------------------------\n",
    "\n",
    "## 1: convert .tfrecord info into .csv "
   ]
  },
  {
   "cell_type": "code",
   "execution_count": 3,
   "metadata": {},
   "outputs": [],
   "source": [
    "index_label = pd.read_csv(\"class_labels_indices.csv\")"
   ]
  },
  {
   "cell_type": "code",
   "execution_count": 4,
   "metadata": {},
   "outputs": [],
   "source": [
    "def map_index_to_label(index_label, index):\n",
    "    # Maps index to readable labels\n",
    "    # Return label is a list, that could contain more than 1 item, but refer to the same label\n",
    "    # Return labels are all in lower form, no CAP\n",
    "    # e.g. ['male speech', 'man speaking']\n",
    "    #\n",
    "    # input: pandas.DataFrame index_to_label_df, int index\n",
    "    # output: list readable_label\n",
    "    \n",
    "    # Get the real index of df, in case of mismatch\n",
    "    index = index_label.loc[index_label['index'] == index].index[0] \n",
    "    labels = [label.strip().lower() for label in index_label.iloc[index]['display_name'].split(\",\")]\n",
    "    return labels"
   ]
  },
  {
   "cell_type": "code",
   "execution_count": 5,
   "metadata": {},
   "outputs": [],
   "source": [
    "def map_label_to_index(index_label, label):\n",
    "    # Maps readable labels to index\n",
    "    #\n",
    "    # input: pandas.DataFrame index_to_label_df, str label\n",
    "    # output: int index\n",
    "    label = label.lower()\n",
    "    labelCap = label.capitalize()\n",
    "    for index, row in index_label.iterrows():\n",
    "        labels = [label.strip() for label in row['display_name'].split(\",\")]\n",
    "        if label in labels or labelCap in labels:\n",
    "            return index_label.iloc[index]['index']\n",
    "    return -1"
   ]
  },
  {
   "cell_type": "code",
   "execution_count": 6,
   "metadata": {},
   "outputs": [],
   "source": [
    "def read_tfrecord(filename):\n",
    "    # Read in a tfrecord file\n",
    "    # Store information in list of lists\n",
    "    #\n",
    "    # input: str filename\n",
    "    # output: pandas dataframe with columns:\n",
    "    #        [str video_id, float start_time, float end_time, list label_index, list embed]\n",
    "    \n",
    "    if not filename.endswith('.tfrecord'):\n",
    "        print(\"This file is not a .tfrecord file.\")\n",
    "        return\n",
    "    raw_dataset = tf.data.TFRecordDataset(filename)\n",
    "    return_df = pd.DataFrame(columns=\n",
    "                             ['video_id', 'start_time_seconds', 'end_time_seconds', 'labels', 'audio_embedding'])\n",
    "    for raw_record in raw_dataset:\n",
    "        cur_record_list = []\n",
    "        example = tf.train.SequenceExample()\n",
    "        example.ParseFromString(raw_record.numpy())\n",
    "        \n",
    "        cur_record_list.append(example.context.feature['video_id'].bytes_list.value[0].decode(\"utf-8\"))\n",
    "        cur_record_list.append(example.context.feature['start_time_seconds'].float_list.value[0])\n",
    "        cur_record_list.append(example.context.feature['end_time_seconds'].float_list.value[0])\n",
    "        cur_record_list.append(example.context.feature['labels'].int64_list.value)\n",
    "        \n",
    "        # Original embeddings are stored in hex format, now convert them to readable int\n",
    "        hexembed = example.feature_lists.feature_list['audio_embedding'].feature[0].bytes_list.value[0].hex()\n",
    "        arrayembed = [int(hexembed[i:i+2], 16) for i in range(0, len(hexembed), 2)]\n",
    "        cur_record_list.append(arrayembed)\n",
    "        \n",
    "        return_df.loc[len(return_df)] = cur_record_list\n",
    "    return return_df"
   ]
  },
  {
   "cell_type": "code",
   "execution_count": 7,
   "metadata": {},
   "outputs": [],
   "source": [
    "def convert_csv_tfrecord_dir(dir_path, dest):\n",
    "    # Read and concat all tfrecord files in a directory\n",
    "    # and save to csv in appending mode\n",
    "    #\n",
    "    # input: str directory_path, (must contain '/' in the end, e.g. 'unbal_train/')\n",
    "    # output: int count_tfrecord_files\n",
    "    cnt = 0\n",
    "    for file in os.listdir(dir_path):\n",
    "        if file.endswith(\".tfrecord\"):\n",
    "            df = read_tfrecord(dir_path+file)\n",
    "            # Original method, that read all data into a df, then store it as csv\n",
    "            # takes too much RAM, and causes crashes when reach limit\n",
    "            # Now update to batch save to avoid exploding uses of RAM\n",
    "            # But still, CPU usage is too high, hope to upgrade later\n",
    "            if cnt == 0:\n",
    "                df.to_csv(dir_path+dest, index=False, header=True)\n",
    "            else:\n",
    "                df.to_csv(dir_path+dest, mode='a', index=False, header=False)\n",
    "            cnt += 1\n",
    "    return cnt"
   ]
  },
  {
   "cell_type": "code",
   "execution_count": 12,
   "metadata": {},
   "outputs": [
    {
     "data": {
      "text/plain": [
       "4062"
      ]
     },
     "execution_count": 12,
     "metadata": {},
     "output_type": "execute_result"
    }
   ],
   "source": [
    "# convert_csv_tfrecord_dir(path+eva, 'eva.csv')"
   ]
  },
  {
   "cell_type": "code",
   "execution_count": 15,
   "metadata": {},
   "outputs": [
    {
     "data": {
      "text/plain": [
       "4070"
      ]
     },
     "execution_count": 15,
     "metadata": {},
     "output_type": "execute_result"
    }
   ],
   "source": [
    "# convert_csv_tfrecord_dir(path+bal, 'bal_train.csv')"
   ]
  },
  {
   "cell_type": "code",
   "execution_count": null,
   "metadata": {},
   "outputs": [],
   "source": [
    "# Takes a looooooooooong time!\n",
    "# convert_csv_tfrecord_dir(path+unbal, 'unbal_train.csv')"
   ]
  },
  {
   "cell_type": "markdown",
   "metadata": {},
   "source": [
    "-------------------------------\n",
    "-------------------------------\n",
    "-------------------------------\n",
    "-------------------------------\n",
    "\n",
    "## 2: prepare data for model training"
   ]
  },
  {
   "cell_type": "code",
   "execution_count": 8,
   "metadata": {},
   "outputs": [],
   "source": [
    "eval_info = pd.read_csv(path+eva+\"eval.csv\")\n",
    "bal_info = pd.read_csv(path+bal+\"bal_train.csv\")\n",
    "unbal_info = pd.read_csv(path+unbal+\"unbal_train.csv\")"
   ]
  },
  {
   "cell_type": "code",
   "execution_count": 9,
   "metadata": {},
   "outputs": [
    {
     "data": {
      "text/html": [
       "<div>\n",
       "<style scoped>\n",
       "    .dataframe tbody tr th:only-of-type {\n",
       "        vertical-align: middle;\n",
       "    }\n",
       "\n",
       "    .dataframe tbody tr th {\n",
       "        vertical-align: top;\n",
       "    }\n",
       "\n",
       "    .dataframe thead th {\n",
       "        text-align: right;\n",
       "    }\n",
       "</style>\n",
       "<table border=\"1\" class=\"dataframe\">\n",
       "  <thead>\n",
       "    <tr style=\"text-align: right;\">\n",
       "      <th></th>\n",
       "      <th>video_id</th>\n",
       "      <th>start_time_seconds</th>\n",
       "      <th>end_time_seconds</th>\n",
       "      <th>labels</th>\n",
       "      <th>audio_embedding</th>\n",
       "    </tr>\n",
       "  </thead>\n",
       "  <tbody>\n",
       "    <tr>\n",
       "      <th>0</th>\n",
       "      <td>W85w938G5ZM</td>\n",
       "      <td>30.0</td>\n",
       "      <td>40.0</td>\n",
       "      <td>[137, 260, 266]</td>\n",
       "      <td>[162, 68, 162, 174, 183, 49, 234, 95, 108, 108...</td>\n",
       "    </tr>\n",
       "    <tr>\n",
       "      <th>1</th>\n",
       "      <td>W8KC0GO8VvY</td>\n",
       "      <td>240.0</td>\n",
       "      <td>250.0</td>\n",
       "      <td>[195, 210]</td>\n",
       "      <td>[117, 255, 128, 77, 77, 255, 23, 221, 255, 255...</td>\n",
       "    </tr>\n",
       "    <tr>\n",
       "      <th>2</th>\n",
       "      <td>W8vOwbkWZfQ</td>\n",
       "      <td>30.0</td>\n",
       "      <td>40.0</td>\n",
       "      <td>[0, 16, 357]</td>\n",
       "      <td>[126, 147, 202, 181, 207, 168, 110, 35, 205, 1...</td>\n",
       "    </tr>\n",
       "    <tr>\n",
       "      <th>3</th>\n",
       "      <td>W8XlZWqklbY</td>\n",
       "      <td>200.0</td>\n",
       "      <td>210.0</td>\n",
       "      <td>[286, 287, 289, 290]</td>\n",
       "      <td>[108, 143, 103, 82, 182, 13, 188, 93, 225, 117...</td>\n",
       "    </tr>\n",
       "    <tr>\n",
       "      <th>4</th>\n",
       "      <td>W8yvnhWdyAs</td>\n",
       "      <td>30.0</td>\n",
       "      <td>40.0</td>\n",
       "      <td>[0, 5, 137]</td>\n",
       "      <td>[42, 91, 176, 145, 33, 235, 255, 241, 8, 0, 21...</td>\n",
       "    </tr>\n",
       "  </tbody>\n",
       "</table>\n",
       "</div>"
      ],
      "text/plain": [
       "      video_id  start_time_seconds  end_time_seconds                labels  \\\n",
       "0  W85w938G5ZM                30.0              40.0       [137, 260, 266]   \n",
       "1  W8KC0GO8VvY               240.0             250.0            [195, 210]   \n",
       "2  W8vOwbkWZfQ                30.0              40.0          [0, 16, 357]   \n",
       "3  W8XlZWqklbY               200.0             210.0  [286, 287, 289, 290]   \n",
       "4  W8yvnhWdyAs                30.0              40.0           [0, 5, 137]   \n",
       "\n",
       "                                     audio_embedding  \n",
       "0  [162, 68, 162, 174, 183, 49, 234, 95, 108, 108...  \n",
       "1  [117, 255, 128, 77, 77, 255, 23, 221, 255, 255...  \n",
       "2  [126, 147, 202, 181, 207, 168, 110, 35, 205, 1...  \n",
       "3  [108, 143, 103, 82, 182, 13, 188, 93, 225, 117...  \n",
       "4  [42, 91, 176, 145, 33, 235, 255, 241, 8, 0, 21...  "
      ]
     },
     "execution_count": 9,
     "metadata": {},
     "output_type": "execute_result"
    }
   ],
   "source": [
    "eval_info.head()"
   ]
  },
  {
   "cell_type": "code",
   "execution_count": 10,
   "metadata": {},
   "outputs": [],
   "source": [
    "def get_df_with_label(df, label):\n",
    "    # Create a sub-df from df where labeled as <label>\n",
    "    #\n",
    "    # input: df df, label string\n",
    "    # output: df df_elements_with_<label>\n",
    "    index = map_label_to_index(index_label, label)\n",
    "    # labels read from csv file become str instead of list\n",
    "    mask = df.labels.apply(lambda x: True if index in [int(l) for l in x[1:-1].split(',')] else False)\n",
    "    df1 = df[mask]\n",
    "    return df1"
   ]
  },
  {
   "cell_type": "code",
   "execution_count": 11,
   "metadata": {},
   "outputs": [],
   "source": [
    "def drop_sub_df(df, df_subset):\n",
    "    # (df - df_subset), where df_subset is a subset of df\n",
    "    # \n",
    "    # input: df df, df subset_of_df\n",
    "    # output: df \n",
    "    df_new = df.merge(df_subset, how='left', indicator=True)\n",
    "    df_new = df_new[df_new['_merge'] == 'left_only']\n",
    "    del df_new['_merge']\n",
    "    return df_new"
   ]
  },
  {
   "cell_type": "code",
   "execution_count": 12,
   "metadata": {},
   "outputs": [],
   "source": [
    "def df_sample(df, size):\n",
    "    # Get a subset from df, where contains n elemets, randomly sampled from df\n",
    "    #\n",
    "    # input: df df, size number_of_elements_in_subset\n",
    "    # output: df\n",
    "    return df.sample(n = size) "
   ]
  },
  {
   "cell_type": "code",
   "execution_count": 13,
   "metadata": {},
   "outputs": [],
   "source": [
    "def df_add_col_with_value(df, col_name, value):\n",
    "    # Add a column to given df with specified value\n",
    "    #\n",
    "    # input: df df, col_name column_name, value default_value_of_new_column\n",
    "    # output: df df\n",
    "    df[col_name] = value\n",
    "    return df\n",
    "\n",
    "def df_get_col_value_as_list(df, col_name):\n",
    "    # Return the value of specific column as list\n",
    "    # Do something different to 'audio_embedding', turn list of strs to list of ints\n",
    "    #\n",
    "    # input: df df, col_name column_name\n",
    "    # output: list column_values\n",
    "    if col_name != 'audio_embedding':\n",
    "        return df[col_name].tolist()\n",
    "    else:\n",
    "        tmp = df[col_name].tolist()\n",
    "        return [[int(num) for num in embed[1:-1].split(',')] for embed in tmp]"
   ]
  },
  {
   "cell_type": "code",
   "execution_count": 14,
   "metadata": {},
   "outputs": [],
   "source": [
    "def df_get_labelled_unlabelled(df, label, ratio_of_label_unlabel):\n",
    "    # Create a new df, that contains all rows with <label>\n",
    "    # and n * len(<label>) rows without <label>\n",
    "    # The new df contains a new columns that indicate whether contain <label>\n",
    "    #\n",
    "    # input: df df, str label, int ratio_of_label:unlabel\n",
    "    # output: df new_df\n",
    "    labelled = get_df_with_label(df, label)\n",
    "    unlabelled = drop_sub_df(df, labelled)\n",
    "    unlabelled = df_sample(unlabelled, len(labelled) * ratio_of_label_unlabel)\n",
    "    labelled = df_add_col_with_value(labelled, 'y', 1)\n",
    "    unlabelled = df_add_col_with_value(unlabelled, 'y', 0)\n",
    "    new_df = pd.concat([labelled, unlabelled],ignore_index=True)\n",
    "    # Shuffle df\n",
    "    new_df = new_df.iloc[np.random.permutation(len(new_df))]\n",
    "    return new_df"
   ]
  },
  {
   "cell_type": "code",
   "execution_count": 15,
   "metadata": {},
   "outputs": [],
   "source": [
    "def data_for_model(df, label, ratio_of_label_unlabel):\n",
    "    # Combine previous functions and form x, y value lists for model\n",
    "    # Could be train_x/y, val_x/y, test_x/y, depending on input\n",
    "    # ratio_of_label_unlabel is used for df_get_labelled_unlablled, as the ratio of label:unlabel\n",
    "    #\n",
    "    # input: df df, str label, int ratio_of_label:unlabel\n",
    "    # output: list x, list y\n",
    "    tmp = df_get_labelled_unlabelled(df, label, ratio_of_label_unlabel)\n",
    "    x = df_get_col_value_as_list(tmp, 'audio_embedding')\n",
    "    y = df_get_col_value_as_list(tmp, 'y')\n",
    "    return x, y"
   ]
  },
  {
   "cell_type": "markdown",
   "metadata": {},
   "source": [
    "-------------------------------\n",
    "-------------------------------\n",
    "-------------------------------\n",
    "-------------------------------\n",
    "\n",
    "## 3: build and train model"
   ]
  },
  {
   "cell_type": "code",
   "execution_count": null,
   "metadata": {},
   "outputs": [],
   "source": [
    "# train_x, train_y = data_for_model(unbal_info, 'snoring', 10)\n",
    "# val_x, val_y = data_for_model(bal_info, 'snoring', 10)\n",
    "# test_x, test_y = data_for_model(eval_info, 'snoring', 10)"
   ]
  },
  {
   "cell_type": "code",
   "execution_count": 38,
   "metadata": {},
   "outputs": [],
   "source": [
    "def model_config_train(ratio_of_label_unlabel, activation, optimizer, metrics, epochs):\n",
    "    train_x, train_y = data_for_model(unbal_info, 'snoring', ratio_of_label_unlabel)\n",
    "    val_x, val_y = data_for_model(bal_info, 'snoring', ratio_of_label_unlabel)\n",
    "    test_x, test_y = data_for_model(eval_info, 'snoring', ratio_of_label_unlabel)\n",
    "    \n",
    "    model = keras.Sequential([\n",
    "        keras.Input(shape=(128,)),\n",
    "        keras.layers.Dense(128, activation=activation),\n",
    "        keras.layers.Dense(1)\n",
    "    ])\n",
    "    model.compile(optimizer=optimizer,\n",
    "             loss=tf.keras.losses.BinaryCrossentropy(from_logits=True),\n",
    "             metrics=metrics)\n",
    "    history = model.fit(train_x, train_y,\n",
    "                   epochs=epochs,\n",
    "                   validation_data=(val_x, val_y),\n",
    "                    verbose=1)\n",
    "    return history"
   ]
  },
  {
   "cell_type": "code",
   "execution_count": 39,
   "metadata": {},
   "outputs": [],
   "source": [
    "def visualize_training(history, filename):\n",
    "    # Visulize training result\n",
    "    #\n",
    "    # input: history output_of_model.fit\n",
    "    # output: None\n",
    "    history_dict = history.history\n",
    "    history_dict.keys()\n",
    "    acc = history_dict['accuracy']\n",
    "    val_acc = history_dict['val_accuracy']\n",
    "    loss = history_dict['loss']\n",
    "    val_loss = history_dict['val_loss']\n",
    "\n",
    "    epochs = range(1, len(acc) + 1)\n",
    "\n",
    "    fig, (ax1, ax2) = plt.subplots(1, 2, figsize=(15,7))\n",
    "    \n",
    "    # \"bo\" is for \"blue dot\"\n",
    "    ax1.plot(epochs, loss, 'bo', label='Training loss')\n",
    "    # b is for \"solid blue line\"\n",
    "    ax1.plot(epochs, val_loss, 'b', label='Validation loss')\n",
    "    ax1.set_title('Training and validation loss')\n",
    "    ax1.set_xlabel('Epochs')\n",
    "    ax1.set_ylabel('Loss')\n",
    "    ax1.legend()\n",
    "    \n",
    "    ax2.plot(epochs, acc, 'bo', label='Training acc')\n",
    "    ax2.plot(epochs, val_acc, 'b', label='Validation acc')\n",
    "    ax2.set_title('Training and validation accuracy')\n",
    "    ax2.set_xlabel('Epochs')\n",
    "    ax2.set_ylabel('Accuracy')\n",
    "    ax2.legend(loc='lower right')\n",
    "\n",
    "    plt.savefig(filename, bbox_inches='tight')\n",
    "\n",
    "def print_test_result(model, test_x, text_y):\n",
    "    results = model.evaluate(test_x, test_y, verbose=2)\n",
    "    for name, value in zip(model.metrics_names, results):\n",
    "        print(\"%s: %.3f\" % (name, value))"
   ]
  },
  {
   "cell_type": "code",
   "execution_count": null,
   "metadata": {},
   "outputs": [],
   "source": [
    "ratio_list = [1, 20, 40]\n",
    "# focus on ratio 1\n",
    "# logistic regression, relu\n",
    "# adam\n",
    "# train: val: test = 8: 1: 1, reshuffle\n",
    "activation_list = ['elu', 'exponential', 'relu', 'sigmoid', 'softmax', 'softplus', 'softsign', 'tanh', 'selu']\n",
    "optimizer_list = ['adam', 'adadelta', 'adagrad', 'adamax', 'rmsprop', 'sgd', 'ftrl', 'nadam']\n",
    "metrics_list = [['accuracy']]\n",
    "epochs_list = [20, 30, 40, 50]\n",
    "\n",
    "for ratio in ratio_list:\n",
    "    for activation in activation_list:\n",
    "        for optimizer in optimizer_list:\n",
    "            for metrics in metrics_list:\n",
    "                for epochs in epochs_list:\n",
    "                    history = model_config_train(ratio, activation, optimizer, metrics, epochs)\n",
    "                    visualize_training(history, \n",
    "                                       'results/'+str(ratio)+'_'+activation+'_'+\n",
    "                                       optimizer+'_'+'_'.join(metrics)+'_'+str(epochs)+'.png')"
   ]
  },
  {
   "cell_type": "code",
   "execution_count": 50,
   "metadata": {},
   "outputs": [],
   "source": [
    "def find_pic_with_keyword(src_dir, dst_dir, keywords):\n",
    "    rmtree(dst_dir)\n",
    "    os.mkdir(dst_dir)\n",
    "    files = [f for f in listdir(src_dir) if isfile(join(src_dir, f))]\n",
    "    mov_files = [f for f in files if all(k in f for k in keywords)]\n",
    "    for f in mov_files:\n",
    "        copyfile(src_dir+f, dst_dir+f)"
   ]
  },
  {
   "cell_type": "code",
   "execution_count": 53,
   "metadata": {},
   "outputs": [],
   "source": [
    "find_pic_with_keyword('results1/', 'tmp/', ['_elu_'])"
   ]
  },
  {
   "cell_type": "code",
   "execution_count": null,
   "metadata": {},
   "outputs": [],
   "source": []
  }
 ],
 "metadata": {
  "kernelspec": {
   "display_name": "Python 3",
   "language": "python",
   "name": "python3"
  },
  "language_info": {
   "codemirror_mode": {
    "name": "ipython",
    "version": 3
   },
   "file_extension": ".py",
   "mimetype": "text/x-python",
   "name": "python",
   "nbconvert_exporter": "python",
   "pygments_lexer": "ipython3",
   "version": "3.7.3"
  }
 },
 "nbformat": 4,
 "nbformat_minor": 4
}
